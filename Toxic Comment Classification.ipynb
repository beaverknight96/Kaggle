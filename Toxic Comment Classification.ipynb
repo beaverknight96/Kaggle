{
 "cells": [
  {
   "cell_type": "code",
   "execution_count": 1,
   "metadata": {},
   "outputs": [],
   "source": [
    "import pandas as pd\n",
    "import numpy as np\n",
    "\n",
    "import matplotlib.pyplot as plt\n",
    "import seaborn as sns\n",
    "\n",
    "from sklearn.feature_extraction.text import CountVectorizer, TfidfVectorizer"
   ]
  },
  {
   "cell_type": "markdown",
   "metadata": {},
   "source": [
    "### EDA"
   ]
  },
  {
   "cell_type": "code",
   "execution_count": 2,
   "metadata": {},
   "outputs": [
    {
     "data": {
      "text/plain": [
       "((159571, 8), (153164, 2))"
      ]
     },
     "execution_count": 2,
     "metadata": {},
     "output_type": "execute_result"
    }
   ],
   "source": [
    "train = pd.read_csv('train.csv')\n",
    "test = pd.read_csv('test.csv')\n",
    "train.shape, test.shape"
   ]
  },
  {
   "cell_type": "code",
   "execution_count": 3,
   "metadata": {},
   "outputs": [
    {
     "data": {
      "text/html": [
       "<div>\n",
       "<style scoped>\n",
       "    .dataframe tbody tr th:only-of-type {\n",
       "        vertical-align: middle;\n",
       "    }\n",
       "\n",
       "    .dataframe tbody tr th {\n",
       "        vertical-align: top;\n",
       "    }\n",
       "\n",
       "    .dataframe thead th {\n",
       "        text-align: right;\n",
       "    }\n",
       "</style>\n",
       "<table border=\"1\" class=\"dataframe\">\n",
       "  <thead>\n",
       "    <tr style=\"text-align: right;\">\n",
       "      <th></th>\n",
       "      <th>id</th>\n",
       "      <th>comment_text</th>\n",
       "      <th>toxic</th>\n",
       "      <th>severe_toxic</th>\n",
       "      <th>obscene</th>\n",
       "      <th>threat</th>\n",
       "      <th>insult</th>\n",
       "      <th>identity_hate</th>\n",
       "    </tr>\n",
       "  </thead>\n",
       "  <tbody>\n",
       "    <tr>\n",
       "      <th>0</th>\n",
       "      <td>0000997932d777bf</td>\n",
       "      <td>Explanation\\nWhy the edits made under my usern...</td>\n",
       "      <td>0</td>\n",
       "      <td>0</td>\n",
       "      <td>0</td>\n",
       "      <td>0</td>\n",
       "      <td>0</td>\n",
       "      <td>0</td>\n",
       "    </tr>\n",
       "    <tr>\n",
       "      <th>1</th>\n",
       "      <td>000103f0d9cfb60f</td>\n",
       "      <td>D'aww! He matches this background colour I'm s...</td>\n",
       "      <td>0</td>\n",
       "      <td>0</td>\n",
       "      <td>0</td>\n",
       "      <td>0</td>\n",
       "      <td>0</td>\n",
       "      <td>0</td>\n",
       "    </tr>\n",
       "    <tr>\n",
       "      <th>2</th>\n",
       "      <td>000113f07ec002fd</td>\n",
       "      <td>Hey man, I'm really not trying to edit war. It...</td>\n",
       "      <td>0</td>\n",
       "      <td>0</td>\n",
       "      <td>0</td>\n",
       "      <td>0</td>\n",
       "      <td>0</td>\n",
       "      <td>0</td>\n",
       "    </tr>\n",
       "    <tr>\n",
       "      <th>3</th>\n",
       "      <td>0001b41b1c6bb37e</td>\n",
       "      <td>\"\\nMore\\nI can't make any real suggestions on ...</td>\n",
       "      <td>0</td>\n",
       "      <td>0</td>\n",
       "      <td>0</td>\n",
       "      <td>0</td>\n",
       "      <td>0</td>\n",
       "      <td>0</td>\n",
       "    </tr>\n",
       "    <tr>\n",
       "      <th>4</th>\n",
       "      <td>0001d958c54c6e35</td>\n",
       "      <td>You, sir, are my hero. Any chance you remember...</td>\n",
       "      <td>0</td>\n",
       "      <td>0</td>\n",
       "      <td>0</td>\n",
       "      <td>0</td>\n",
       "      <td>0</td>\n",
       "      <td>0</td>\n",
       "    </tr>\n",
       "  </tbody>\n",
       "</table>\n",
       "</div>"
      ],
      "text/plain": [
       "                 id                                       comment_text  toxic  \\\n",
       "0  0000997932d777bf  Explanation\\nWhy the edits made under my usern...      0   \n",
       "1  000103f0d9cfb60f  D'aww! He matches this background colour I'm s...      0   \n",
       "2  000113f07ec002fd  Hey man, I'm really not trying to edit war. It...      0   \n",
       "3  0001b41b1c6bb37e  \"\\nMore\\nI can't make any real suggestions on ...      0   \n",
       "4  0001d958c54c6e35  You, sir, are my hero. Any chance you remember...      0   \n",
       "\n",
       "   severe_toxic  obscene  threat  insult  identity_hate  \n",
       "0             0        0       0       0              0  \n",
       "1             0        0       0       0              0  \n",
       "2             0        0       0       0              0  \n",
       "3             0        0       0       0              0  \n",
       "4             0        0       0       0              0  "
      ]
     },
     "execution_count": 3,
     "metadata": {},
     "output_type": "execute_result"
    }
   ],
   "source": [
    "train.head()"
   ]
  },
  {
   "cell_type": "code",
   "execution_count": 4,
   "metadata": {},
   "outputs": [
    {
     "data": {
      "text/html": [
       "<div>\n",
       "<style scoped>\n",
       "    .dataframe tbody tr th:only-of-type {\n",
       "        vertical-align: middle;\n",
       "    }\n",
       "\n",
       "    .dataframe tbody tr th {\n",
       "        vertical-align: top;\n",
       "    }\n",
       "\n",
       "    .dataframe thead th {\n",
       "        text-align: right;\n",
       "    }\n",
       "</style>\n",
       "<table border=\"1\" class=\"dataframe\">\n",
       "  <thead>\n",
       "    <tr style=\"text-align: right;\">\n",
       "      <th></th>\n",
       "      <th>toxic</th>\n",
       "      <th>severe_toxic</th>\n",
       "      <th>obscene</th>\n",
       "      <th>threat</th>\n",
       "      <th>insult</th>\n",
       "      <th>identity_hate</th>\n",
       "      <th>non-toxic</th>\n",
       "    </tr>\n",
       "  </thead>\n",
       "  <tbody>\n",
       "    <tr>\n",
       "      <th>count</th>\n",
       "      <td>159571.000000</td>\n",
       "      <td>159571.000000</td>\n",
       "      <td>159571.000000</td>\n",
       "      <td>159571.000000</td>\n",
       "      <td>159571.000000</td>\n",
       "      <td>159571.000000</td>\n",
       "      <td>159571.000000</td>\n",
       "    </tr>\n",
       "    <tr>\n",
       "      <th>mean</th>\n",
       "      <td>0.095844</td>\n",
       "      <td>0.009996</td>\n",
       "      <td>0.052948</td>\n",
       "      <td>0.002996</td>\n",
       "      <td>0.049364</td>\n",
       "      <td>0.008805</td>\n",
       "      <td>0.898321</td>\n",
       "    </tr>\n",
       "    <tr>\n",
       "      <th>std</th>\n",
       "      <td>0.294379</td>\n",
       "      <td>0.099477</td>\n",
       "      <td>0.223931</td>\n",
       "      <td>0.054650</td>\n",
       "      <td>0.216627</td>\n",
       "      <td>0.093420</td>\n",
       "      <td>0.302226</td>\n",
       "    </tr>\n",
       "    <tr>\n",
       "      <th>min</th>\n",
       "      <td>0.000000</td>\n",
       "      <td>0.000000</td>\n",
       "      <td>0.000000</td>\n",
       "      <td>0.000000</td>\n",
       "      <td>0.000000</td>\n",
       "      <td>0.000000</td>\n",
       "      <td>0.000000</td>\n",
       "    </tr>\n",
       "    <tr>\n",
       "      <th>25%</th>\n",
       "      <td>0.000000</td>\n",
       "      <td>0.000000</td>\n",
       "      <td>0.000000</td>\n",
       "      <td>0.000000</td>\n",
       "      <td>0.000000</td>\n",
       "      <td>0.000000</td>\n",
       "      <td>1.000000</td>\n",
       "    </tr>\n",
       "    <tr>\n",
       "      <th>50%</th>\n",
       "      <td>0.000000</td>\n",
       "      <td>0.000000</td>\n",
       "      <td>0.000000</td>\n",
       "      <td>0.000000</td>\n",
       "      <td>0.000000</td>\n",
       "      <td>0.000000</td>\n",
       "      <td>1.000000</td>\n",
       "    </tr>\n",
       "    <tr>\n",
       "      <th>75%</th>\n",
       "      <td>0.000000</td>\n",
       "      <td>0.000000</td>\n",
       "      <td>0.000000</td>\n",
       "      <td>0.000000</td>\n",
       "      <td>0.000000</td>\n",
       "      <td>0.000000</td>\n",
       "      <td>1.000000</td>\n",
       "    </tr>\n",
       "    <tr>\n",
       "      <th>max</th>\n",
       "      <td>1.000000</td>\n",
       "      <td>1.000000</td>\n",
       "      <td>1.000000</td>\n",
       "      <td>1.000000</td>\n",
       "      <td>1.000000</td>\n",
       "      <td>1.000000</td>\n",
       "      <td>1.000000</td>\n",
       "    </tr>\n",
       "  </tbody>\n",
       "</table>\n",
       "</div>"
      ],
      "text/plain": [
       "               toxic   severe_toxic        obscene         threat  \\\n",
       "count  159571.000000  159571.000000  159571.000000  159571.000000   \n",
       "mean        0.095844       0.009996       0.052948       0.002996   \n",
       "std         0.294379       0.099477       0.223931       0.054650   \n",
       "min         0.000000       0.000000       0.000000       0.000000   \n",
       "25%         0.000000       0.000000       0.000000       0.000000   \n",
       "50%         0.000000       0.000000       0.000000       0.000000   \n",
       "75%         0.000000       0.000000       0.000000       0.000000   \n",
       "max         1.000000       1.000000       1.000000       1.000000   \n",
       "\n",
       "              insult  identity_hate      non-toxic  \n",
       "count  159571.000000  159571.000000  159571.000000  \n",
       "mean        0.049364       0.008805       0.898321  \n",
       "std         0.216627       0.093420       0.302226  \n",
       "min         0.000000       0.000000       0.000000  \n",
       "25%         0.000000       0.000000       1.000000  \n",
       "50%         0.000000       0.000000       1.000000  \n",
       "75%         0.000000       0.000000       1.000000  \n",
       "max         1.000000       1.000000       1.000000  "
      ]
     },
     "execution_count": 4,
     "metadata": {},
     "output_type": "execute_result"
    }
   ],
   "source": [
    "label_cols = ['toxic', 'severe_toxic', 'obscene', 'threat', 'insult', 'identity_hate']\n",
    "train['non-toxic'] = 1-train[label_cols].max(axis=1)\n",
    "train.describe()"
   ]
  },
  {
   "cell_type": "code",
   "execution_count": 5,
   "metadata": {},
   "outputs": [],
   "source": [
    "def get_top_ngrams(corpus, ngram = 2, n=None):\n",
    "    vec = CountVectorizer(ngram_range=(ngram, ngram)).fit(corpus)\n",
    "    bag_of_words = vec.transform(corpus)\n",
    "    sum_words = bag_of_words.sum(axis=0) \n",
    "    words_freq = [(word, sum_words[0, idx]) for word, idx in vec.vocabulary_.items()]\n",
    "    words_freq =sorted(words_freq, key = lambda x: x[1], reverse=True)\n",
    "    return words_freq[:n]"
   ]
  },
  {
   "cell_type": "code",
   "execution_count": 11,
   "metadata": {},
   "outputs": [
    {
     "data": {
      "text/plain": [
       "<AxesSubplot:>"
      ]
     },
     "execution_count": 11,
     "metadata": {},
     "output_type": "execute_result"
    },
    {
     "data": {
      "image/png": "[encoded data removed]",
      "text/plain": [
       "<Figure size 720x360 with 1 Axes>"
      ]
     },
     "metadata": {
      "needs_background": "light"
     },
     "output_type": "display_data"
    }
   ],
   "source": [
    "plt.figure(figsize=(10,5))\n",
    "top_bigrams=get_top_ngrams(train['comment_text'])[:10]\n",
    "x,y=map(list,zip(*top_bigrams))\n",
    "sns.barplot(x=y,y=x)"
   ]
  },
  {
   "cell_type": "markdown",
   "metadata": {},
   "source": [
    "### Preprocessing"
   ]
  },
  {
   "cell_type": "code",
   "execution_count": 5,
   "metadata": {},
   "outputs": [
    {
     "name": "stderr",
     "output_type": "stream",
     "text": [
      "/Users/jixidai/opt/anaconda3/lib/python3.8/site-packages/gensim/similarities/__init__.py:15: UserWarning: The gensim.similarities.levenshtein submodule is disabled, because the optional Levenshtein package <https://pypi.org/project/python-Levenshtein/> is unavailable. Install Levenhstein (e.g. `pip install python-Levenshtein`) to suppress this warning.\n",
      "  warnings.warn(msg)\n"
     ]
    }
   ],
   "source": [
    "from nltk.corpus import stopwords\n",
    "from nltk.util import ngrams\n",
    "from collections import defaultdict\n",
    "from collections import  Counter\n",
    "plt.style.use('ggplot')\n",
    "stop=set(stopwords.words('english'))\n",
    "import re\n",
    "from nltk.tokenize import word_tokenize\n",
    "import gensim\n",
    "import string\n",
    "from spellchecker import SpellChecker\n",
    "import textblob\n",
    "import os\n",
    "import tensorflow as tf"
   ]
  },
  {
   "cell_type": "code",
   "execution_count": 6,
   "metadata": {},
   "outputs": [],
   "source": [
    "def remove_URL(comment_text):\n",
    "    url = re.compile(r'https?://\\S+|www\\.\\S+')\n",
    "    return url.sub(r'',comment_text)\n",
    "\n",
    "def remove_html(comment_text):\n",
    "    html=re.compile(r'<.*?>')\n",
    "    return html.sub(r'',comment_text)\n",
    "\n",
    "def remove_emoji(comment_text):\n",
    "    emoji_pattern = re.compile(\"[\"\n",
    "                           u\"\\U0001F600-\\U0001F64F\"  # emoticons\n",
    "                           u\"\\U0001F300-\\U0001F5FF\"  # symbols & pictographs\n",
    "                           u\"\\U0001F680-\\U0001F6FF\"  # transport & map symbols\n",
    "                           u\"\\U0001F1E0-\\U0001F1FF\"  # flags (iOS)\n",
    "                           u\"\\U00002702-\\U000027B0\"\n",
    "                           u\"\\U000024C2-\\U0001F251\"\n",
    "                           \"]+\", flags=re.UNICODE)\n",
    "    return emoji_pattern.sub(r'', comment_text)\n",
    "\n",
    "def remove_punct(comment_text):\n",
    "    table=str.maketrans('','',string.punctuation)\n",
    "    return comment_text.translate(table)\n",
    "\n",
    "def correct_spellings(comment_text):\n",
    "    spell = SpellChecker()\n",
    "    corrected_comment_text = []\n",
    "    misspelled_words = spell.unknown(comment_text.split())\n",
    "    for word in comment_text.split():\n",
    "        if word in misspelled_words:\n",
    "            corrected_comment_text.append(spell.correction(word))\n",
    "        else:\n",
    "            corrected_comment_text.append(word)\n",
    "    return \" \".join(corrected_comment_text)\n",
    "\n",
    "def check_pos_tag(x, flag):\n",
    "    pos_family = {\n",
    "    'noun' : ['NN','NNS','NNP','NNPS'],\n",
    "    'pron' : ['PRP','PRP$','WP','WP$'],\n",
    "    'verb' : ['VB','VBD','VBG','VBN','VBP','VBZ'],\n",
    "    'adj' : ['JJ','JJR','JJS'],\n",
    "    'adv' : ['RB','RBR','RBS','WRB']\n",
    "    }\n",
    "    cnt = 0\n",
    "    wiki = textblob.TextBlob(x)\n",
    "    for tup in wiki.tags:\n",
    "        ppo = list(tup)[1]\n",
    "        if ppo in pos_family[flag]:\n",
    "            cnt += 1\n",
    "    return cnt\n",
    "\n",
    "def preprocess(df):\n",
    "    \n",
    "    df['comment_text']=df['comment_text'].apply(lambda x : remove_URL(x))\n",
    "    df['comment_text']=df['comment_text'].apply(lambda x : remove_html(x))\n",
    "    df['comment_text']=df['comment_text'].apply(lambda x: remove_emoji(x))\n",
    "    df['comment_text'] = df['comment_text'].str.lower()\n",
    "    #df['comment_text']=df['comment_text'].apply(lambda x : correct_spellings(x))\n",
    "    df['upper_case_word_count'] = df['comment_text'].apply(lambda x: len([wrd for wrd in x.split() if wrd.isupper()]))\n",
    "    df['word_count'] = df['comment_text'].apply(lambda x: len(x.split()))\n",
    "    df['punctuation_count'] = df['comment_text'].apply(lambda x: len(\"\".join(_ for _ in x if _ in string.punctuation)))\n",
    "    df['comment_text']=df['comment_text'].apply(lambda x : remove_punct(x))\n",
    "    df['noun_count'] = df['comment_text'].apply(lambda x: check_pos_tag(x, 'noun'))\n",
    "    df['verb_count'] = df['comment_text'].apply(lambda x: check_pos_tag(x, 'verb'))\n",
    "    df['adj_count'] = df['comment_text'].apply(lambda x: check_pos_tag(x, 'adj'))\n",
    "    df['adv_count'] = df['comment_text'].apply(lambda x: check_pos_tag(x, 'adv'))\n",
    "    df['pron_count'] = df['comment_text'].apply(lambda x: check_pos_tag(x, 'pron'))\n",
    "    df['comment_text'].fillna(\"unknown\", inplace=True)\n",
    "    return df\n",
    "    \n"
   ]
  },
  {
   "cell_type": "code",
   "execution_count": null,
   "metadata": {},
   "outputs": [],
   "source": [
    "train_df = preprocess(train)\n",
    "test_df = preprocess(test)\n",
    "train_df.to_csv('train_temp.csv', index = False)\n",
    "test_df.to_csv('test_temp.csv', index = False)"
   ]
  },
  {
   "cell_type": "code",
   "execution_count": 7,
   "metadata": {},
   "outputs": [],
   "source": [
    "train_df = pd.read_csv('train_temp.csv')\n",
    "test_df = pd.read_csv('test_temp.csv')\n",
    "\n",
    "train_df['comment_text'].fillna(\"unknown\", inplace=True)\n",
    "test_df['comment_text'].fillna(\"unknown\", inplace=True)"
   ]
  },
  {
   "cell_type": "code",
   "execution_count": 12,
   "metadata": {},
   "outputs": [
    {
     "data": {
      "text/plain": [
       "<AxesSubplot:>"
      ]
     },
     "execution_count": 12,
     "metadata": {},
     "output_type": "execute_result"
    },
    {
     "data": {
      "image/png": "[encoded data removed]",
      "text/plain": [
       "<Figure size 720x360 with 1 Axes>"
      ]
     },
     "metadata": {},
     "output_type": "display_data"
    }
   ],
   "source": [
    "### Most frequent words in toxic comment\n",
    "plt.figure(figsize=(10,5))\n",
    "top_bigrams=get_top_ngrams(train_df[train_df['toxic'] == 1]['comment_text'])[:10]\n",
    "x,y=map(list,zip(*top_bigrams))\n",
    "sns.barplot(x=y,y=x)"
   ]
  },
  {
   "cell_type": "code",
   "execution_count": 13,
   "metadata": {},
   "outputs": [
    {
     "data": {
      "text/plain": [
       "<AxesSubplot:>"
      ]
     },
     "execution_count": 13,
     "metadata": {},
     "output_type": "execute_result"
    },
    {
     "data": {
      "image/png": "[encoded data removed]",
      "text/plain": [
       "<Figure size 720x360 with 1 Axes>"
      ]
     },
     "metadata": {},
     "output_type": "display_data"
    }
   ],
   "source": [
    "### Most frequent words in severe toxic comment\n",
    "plt.figure(figsize=(10,5))\n",
    "top_bigrams=get_top_ngrams(train_df[train_df['severe_toxic'] == 1]['comment_text'])[:10]\n",
    "x,y=map(list,zip(*top_bigrams))\n",
    "sns.barplot(x=y,y=x)"
   ]
  },
  {
   "cell_type": "markdown",
   "metadata": {},
   "source": [
    "### Model"
   ]
  },
  {
   "cell_type": "code",
   "execution_count": 12,
   "metadata": {},
   "outputs": [],
   "source": [
    "from sklearn.base import BaseEstimator, TransformerMixin\n",
    "from sklearn.feature_extraction.text import CountVectorizer, TfidfVectorizer\n",
    "from sklearn.naive_bayes import MultinomialNB, GaussianNB\n",
    "from sklearn.metrics import accuracy_score, recall_score, precision_score, roc_auc_score\n",
    "from sklearn.model_selection import train_test_split\n",
    "from sklearn.linear_model import LogisticRegression\n",
    "from sklearn.svm import SVC\n",
    "from sklearn.pipeline import Pipeline\n",
    "from sklearn.ensemble import RandomForestClassifier\n",
    "import imblearn\n",
    "import gensim.downloader\n",
    "from gensim.models import Word2Vec\n",
    "#import lightgbm as lgb"
   ]
  },
  {
   "cell_type": "code",
   "execution_count": 9,
   "metadata": {},
   "outputs": [],
   "source": [
    "class NLTKPreprocessor(BaseEstimator, TransformerMixin):\n",
    "\n",
    "    def __init__(self, stopwords=None, punct=None,\n",
    "                 lower=True, strip=True):\n",
    "        self.lower      = lower\n",
    "        self.strip      = strip\n",
    "        self.stopwords  = stopwords or set(sw.words('english'))\n",
    "        self.punct      = punct or set(string.punctuation)\n",
    "        self.lemmatizer = WordNetLemmatizer()\n",
    "\n",
    "    def fit(self, X, y=None):\n",
    "        return self\n",
    "\n",
    "    def inverse_transform(self, X):\n",
    "        return [\" \".join(doc) for doc in X]\n",
    "\n",
    "    def transform(self, X):\n",
    "        return [' '.join(self.tokenize(doc)) for doc in X]\n",
    "\n",
    "    def tokenize(self, sentence):\n",
    "        for token, tag in pos_tag(wordpunct_tokenize(sentence)):\n",
    "            # Apply preprocessing to the token\n",
    "            token = token.lower() if self.lower else token\n",
    "            token = token.strip() if self.strip else token\n",
    "            token = token.strip('_') if self.strip else token\n",
    "            token = token.strip('*') if self.strip else token\n",
    "\n",
    "            # If stopword, ignore token and continue\n",
    "            if token in self.stopwords:\n",
    "                continue\n",
    "\n",
    "            # If punctuation, ignore token and continue\n",
    "            if all(char in self.punct for char in token):\n",
    "                continue\n",
    "\n",
    "            # Lemmatize the token and yield\n",
    "            lemma = self.lemmatize(token, tag)\n",
    "            yield lemma\n",
    "\n",
    "    def lemmatize(self, token, tag):\n",
    "        tag = {\n",
    "            'N': wn.NOUN,\n",
    "            'V': wn.VERB,\n",
    "            'R': wn.ADV,\n",
    "            'J': wn.ADJ\n",
    "        }.get(tag[0], wn.NOUN)\n",
    "\n",
    "        return self.lemmatizer.lemmatize(token, tag)"
   ]
  },
  {
   "cell_type": "markdown",
   "metadata": {},
   "source": [
    "#### Machine Learning Models"
   ]
  },
  {
   "cell_type": "code",
   "execution_count": 10,
   "metadata": {},
   "outputs": [],
   "source": [
    "def build_vectorizer(vectorizer, corpus, stop_words = None, preprocessor = None):\n",
    "        if stop_words:    \n",
    "            vectorizer.set_params(stop_words = stop_words)\n",
    "\n",
    "        if preprocessor:\n",
    "            corpus = preprocessor.fit(corpus)\n",
    "            corpus = preprocessor.transform(corpus)\n",
    "            vectorizer.set_params(tokenizer = None, preprocessor=None, lowercase=False)\n",
    "\n",
    "        vectorizer.fit(corpus)\n",
    "    \n",
    "        return vectorizer\n",
    "\n",
    "def build(X, y, vectorizer, classifier, stop_words = None, preprocessor = None):\n",
    "    \"\"\"\n",
    "    Use imblearn pipelien to build model\n",
    "    \"\"\"\n",
    "    \n",
    "    if isinstance(classifier, type):\n",
    "        classifier = classifier()\n",
    "\n",
    "    vectorizer = build_vectorizer(vectorizer, X, stop_words = stop_words, preprocessor = preprocessor)\n",
    "    over = imblearn.over_sampling.SMOTE(sampling_strategy=0.2)\n",
    "    under = imblearn.under_sampling.RandomUnderSampler(sampling_strategy=0.5)\n",
    "    steps = [('vectorizer', vectorizer), ('o', over), ('u', under), ('classifier', classifier)]\n",
    "    model = imblearn.pipeline.Pipeline(steps=steps)\n",
    "    model.fit(X, y)\n",
    "    return model\n",
    "\n",
    "def build_and_evaluate(X, y, vectorizer, stop_words = None, \n",
    "                       preprocessor = None, classifier = MultinomialNB()):\n",
    "    \n",
    "    accuracys = []\n",
    "    recalls = []\n",
    "    precisions = []\n",
    "    roc_aucs = []\n",
    "    for i, label in enumerate(label_cols):\n",
    "        X_train, X_valid, y_train, y_valid = train_test_split(X, y[label], test_size=0.2, random_state = 0)\n",
    "        model = build(X_train, y_train, vectorizer, classifier)\n",
    "        y_pred = model.predict(X_valid)\n",
    "        accuracys.append(accuracy_score(y_valid, y_pred))\n",
    "        recalls.append(recall_score(y_valid, y_pred))\n",
    "        precisions.append(precision_score(y_valid, y_pred))\n",
    "        roc_aucs.append(roc_auc_score(y_valid, y_pred))\n",
    "\n",
    "    classifier_name = type(classifier).__name__\n",
    "    print(\"Classification Report for {} + {}:\\n\".format(classifier_name, type(vectorizer).__name__))\n",
    "    print(\"Average accuracy across all labels is {}\".format(np.mean(accuracys)))\n",
    "    print(\"Average recall across all labels is {}\".format(np.mean(recalls)))\n",
    "    print(\"Average precision across all labels is {}\".format(np.mean(precisions)))\n",
    "    print(\"Average auc score across all labels is {}\".format(np.mean(roc_aucs)))\n",
    "\n",
    "def build_and_predict(X_train, y_train, X_test, vectorizer, stop_words = None, \n",
    "                       preprocessor = None, classifier = MultinomialNB()):\n",
    "    preds = np.zeros((len(X_test), len(label_cols)))\n",
    "    for i, label in enumerate(label_cols):\n",
    "        model = build(X_train, y_train[label], vectorizer, classifier)\n",
    "        preds[:,i] = model.predict(X_test)\n",
    "    return preds\n",
    "\n",
    "    "
   ]
  },
  {
   "cell_type": "code",
   "execution_count": 38,
   "metadata": {},
   "outputs": [
    {
     "name": "stdout",
     "output_type": "stream",
     "text": [
      "Classification Report for MultinomialNB + TfidfVectorizer:\n",
      "\n",
      "Average accuracy across all labels is 0.9671732205337092\n",
      "Average recall across all labels is 0.6432932204150239\n",
      "Average precision across all labels is 0.4673019017439939\n",
      "Average auc score across all labels is 0.8129398889167899\n"
     ]
    }
   ],
   "source": [
    "#NB-TFIDF\n",
    "tfidf_vectorizer = TfidfVectorizer(ngram_range=(1,2), min_df=3, max_df=0.9, strip_accents='unicode', use_idf=1, smooth_idf=1, sublinear_tf=1 )\n",
    "build_and_evaluate(train_df['comment_text'], train_df[label_cols], tfidf_vectorizer, stop_words = stop, \n",
    "                       preprocessor = None, classifier = MultinomialNB())\n",
    "nb_tfidf_prediction = build_and_predict(train_df['comment_text'], train_df[label_cols], test_df['comment_text'], tfidf_vectorizer, stop_words = None, \n",
    "                       preprocessor = None, classifier = MultinomialNB())"
   ]
  },
  {
   "cell_type": "code",
   "execution_count": 39,
   "metadata": {},
   "outputs": [
    {
     "name": "stdout",
     "output_type": "stream",
     "text": [
      "Classification Report for MultinomialNB + CountVectorizer:\n",
      "\n",
      "Average accuracy across all labels is 0.9613191289362368\n",
      "Average recall across all labels is 0.6392057318809118\n",
      "Average precision across all labels is 0.36712336615347546\n",
      "Average auc score across all labels is 0.8045366058477353\n"
     ]
    }
   ],
   "source": [
    "#NB-COUNT\n",
    "count_vectorizer = CountVectorizer(ngram_range=(1,2), min_df=3, max_df=0.9, strip_accents='unicode')\n",
    "build_and_evaluate(train_df['comment_text'], train_df[label_cols], count_vectorizer, stop_words = stop, \n",
    "                       preprocessor = None, classifier = MultinomialNB())\n",
    "nb_count_prediction = build_and_predict(train_df['comment_text'], train_df[label_cols], test_df['comment_text'], count_vectorizer, stop_words = None, \n",
    "                       preprocessor = None, classifier = MultinomialNB())"
   ]
  },
  {
   "cell_type": "code",
   "execution_count": 14,
   "metadata": {},
   "outputs": [
    {
     "name": "stderr",
     "output_type": "stream",
     "text": [
      "/Users/jixidai/opt/anaconda3/lib/python3.8/site-packages/sklearn/linear_model/_logistic.py:763: ConvergenceWarning: lbfgs failed to converge (status=1):\n",
      "STOP: TOTAL NO. of ITERATIONS REACHED LIMIT.\n",
      "\n",
      "Increase the number of iterations (max_iter) or scale the data as shown in:\n",
      "    https://scikit-learn.org/stable/modules/preprocessing.html\n",
      "Please also refer to the documentation for alternative solver options:\n",
      "    https://scikit-learn.org/stable/modules/linear_model.html#logistic-regression\n",
      "  n_iter_i = _check_optimize_result(\n",
      "/Users/jixidai/opt/anaconda3/lib/python3.8/site-packages/sklearn/linear_model/_logistic.py:763: ConvergenceWarning: lbfgs failed to converge (status=1):\n",
      "STOP: TOTAL NO. of ITERATIONS REACHED LIMIT.\n",
      "\n",
      "Increase the number of iterations (max_iter) or scale the data as shown in:\n",
      "    https://scikit-learn.org/stable/modules/preprocessing.html\n",
      "Please also refer to the documentation for alternative solver options:\n",
      "    https://scikit-learn.org/stable/modules/linear_model.html#logistic-regression\n",
      "  n_iter_i = _check_optimize_result(\n"
     ]
    },
    {
     "name": "stdout",
     "output_type": "stream",
     "text": [
      "Classification Report for LogisticRegression + TfidfVectorizer:\n",
      "\n",
      "Average accuracy across all labels is 0.9666457778474072\n",
      "Average recall across all labels is 0.7405630175796806\n",
      "Average precision across all labels is 0.44368636740009854\n",
      "Average auc score across all labels is 0.857318908373903\n"
     ]
    },
    {
     "name": "stderr",
     "output_type": "stream",
     "text": [
      "/Users/jixidai/opt/anaconda3/lib/python3.8/site-packages/sklearn/linear_model/_logistic.py:763: ConvergenceWarning: lbfgs failed to converge (status=1):\n",
      "STOP: TOTAL NO. of ITERATIONS REACHED LIMIT.\n",
      "\n",
      "Increase the number of iterations (max_iter) or scale the data as shown in:\n",
      "    https://scikit-learn.org/stable/modules/preprocessing.html\n",
      "Please also refer to the documentation for alternative solver options:\n",
      "    https://scikit-learn.org/stable/modules/linear_model.html#logistic-regression\n",
      "  n_iter_i = _check_optimize_result(\n",
      "/Users/jixidai/opt/anaconda3/lib/python3.8/site-packages/sklearn/linear_model/_logistic.py:763: ConvergenceWarning: lbfgs failed to converge (status=1):\n",
      "STOP: TOTAL NO. of ITERATIONS REACHED LIMIT.\n",
      "\n",
      "Increase the number of iterations (max_iter) or scale the data as shown in:\n",
      "    https://scikit-learn.org/stable/modules/preprocessing.html\n",
      "Please also refer to the documentation for alternative solver options:\n",
      "    https://scikit-learn.org/stable/modules/linear_model.html#logistic-regression\n",
      "  n_iter_i = _check_optimize_result(\n"
     ]
    }
   ],
   "source": [
    "#LR-TFIDF\n",
    "tfidf_vectorizer = TfidfVectorizer(ngram_range=(1,2), min_df=3, max_df=0.9, strip_accents='unicode', use_idf=1, smooth_idf=1, sublinear_tf=1 )\n",
    "build_and_evaluate(train_df['comment_text'], train_df[label_cols], tfidf_vectorizer, stop_words = stop, \n",
    "                       preprocessor = None, classifier = LogisticRegression())\n",
    "lr_tfidf_prediction = build_and_predict(train_df['comment_text'], train_df[label_cols], test_df['comment_text'], tfidf_vectorizer, stop_words = None, \n",
    "                       preprocessor = None, classifier = LogisticRegression())"
   ]
  },
  {
   "cell_type": "code",
   "execution_count": 35,
   "metadata": {},
   "outputs": [
    {
     "name": "stdout",
     "output_type": "stream",
     "text": [
      "Classification Report for RandomForestClassifier + TfidfVectorizer:\n",
      "\n",
      "Average accuracy across all labels is 0.9767402997545563\n",
      "Average recall across all labels is 0.7528162178456047\n",
      "Average precision across all labels is 0.2562449838934063\n"
     ]
    }
   ],
   "source": [
    "#TFIDF-RF\n",
    "tfidf_vectorizer = TfidfVectorizer(ngram_range=(1,2), min_df=3, max_df=0.9, strip_accents='unicode', use_idf=1, smooth_idf=1, sublinear_tf=1 )\n",
    "build_and_evaluate(train_df['comment_text'], train_df[label_cols], tfidf_vectorizer, stop_words = stop, \n",
    "                       preprocessor = None, classifier = RandomForestClassifier())\n",
    "rf_tfidf_prediction = build_and_predict(train_df['comment_text'], train_df[label_cols], test_df['comment_text'], count_vectorizer, stop_words = None, \n",
    "                       preprocessor = None, classifier = RandomForestClassifier())"
   ]
  },
  {
   "cell_type": "code",
   "execution_count": 15,
   "metadata": {},
   "outputs": [],
   "source": [
    "class MeanEmbeddingVectorizer(object):\n",
    "    def __init__(self, word2vec):\n",
    "        self.word2vec = word2vec\n",
    "        # if a text is empty we should return a vector of zeros\n",
    "        # with the same dimensionality as all the other vectors\n",
    "        self.dim = self.word2vec.vector_size\n",
    "\n",
    "    def fit(self, X, y = None):\n",
    "        return self\n",
    "\n",
    "    def transform(self, X):\n",
    "        return np.array([\n",
    "            np.mean([self.word2vec[w] for w in words if w in self.word2vec]\n",
    "                    or [np.zeros(self.dim)], axis=0)\n",
    "            for words in X\n",
    "        ])"
   ]
  },
  {
   "cell_type": "code",
   "execution_count": 19,
   "metadata": {},
   "outputs": [
    {
     "name": "stdout",
     "output_type": "stream",
     "text": [
      "Classification Report for GaussianNB + MeanEmbeddingVectorizer:\n",
      "\n",
      "Average accuracy across all labels is 0.8198913781398507\n",
      "Average recall across all labels is 0.5867393215556616\n",
      "Average precision across all labels is 0.09830615600713659\n",
      "Average auc score across all labels is 0.7088134622343905\n"
     ]
    }
   ],
   "source": [
    "#Pretrained Word2Vec - NB\n",
    "glove_vectors = gensim.downloader.load('glove-twitter-200')\n",
    "tweet2vec = MeanEmbeddingVectorizer(glove_vectors)\n",
    "\n",
    "build_and_evaluate(train_df['comment_text'], train_df[label_cols], tweet2vec, stop_words = stop, \n",
    "                       preprocessor = None, classifier = GaussianNB())\n"
   ]
  },
  {
   "cell_type": "code",
   "execution_count": null,
   "metadata": {},
   "outputs": [],
   "source": [
    "#word2vec trained on current dataset\n",
    "\n",
    "word2vec = Word2Vec(vector_size = 300, min_count=1)\n",
    "train_text = [[word for word in tweet.lower().split()] for tweet in train_df.text]\n",
    "word2vec.build_vocab(train_text)\n",
    "word2vec.train(train_text, total_examples = len(train_df), epochs = word2vec.epochs)\n",
    "\n",
    "tweet2vec = MeanEmbeddingVectorizer(word2vec.wv)\n",
    "train_word2vec = tweet2vec.transform(train_x.text)\n",
    "valid_word2vec = tweet2vec.transform(valid_x.text)"
   ]
  },
  {
   "cell_type": "markdown",
   "metadata": {},
   "source": [
    "#### NB-SVM"
   ]
  },
  {
   "cell_type": "code",
   "execution_count": 29,
   "metadata": {},
   "outputs": [],
   "source": [
    "from sklearn.base import BaseEstimator, ClassifierMixin\n",
    "from sklearn.utils.validation import check_X_y, check_is_fitted\n",
    "from sklearn.linear_model import LogisticRegression\n",
    "from scipy import sparse\n",
    "\n",
    "def pr(x, y_i, y):\n",
    "    p = x[y==y_i].sum(0)\n",
    "    return (p+1) / ((y==y_i).sum()+1)\n",
    "\n",
    "class NbSvmClassifier(BaseEstimator, ClassifierMixin):\n",
    "    def __init__(self, C=1.0, dual=False, n_jobs=1):\n",
    "        self.C = C\n",
    "        self.dual = dual\n",
    "        self.n_jobs = n_jobs\n",
    "\n",
    "    def predict(self, x):\n",
    "        # Verify that model has been fit\n",
    "        check_is_fitted(self, ['_r', '_clf'])\n",
    "        return self._clf.predict(x.multiply(self._r))\n",
    "\n",
    "    def predict_proba(self, x):\n",
    "        # Verify that model has been fit\n",
    "        check_is_fitted(self, ['_r', '_clf'])\n",
    "        return self._clf.predict_proba(x.multiply(self._r))\n",
    "    \n",
    "    def cross_validation(self, x, y):\n",
    "        kf = KFold(n_split = 5, random_state = 0, shuffle = True)\n",
    "        return np.mean(cross_val_score(self, x, y, cv = kf))\n",
    "\n",
    "    def fit(self, x, y):\n",
    "        # Check that X and y have correct shape\n",
    "        y = y.values\n",
    "        x, y = check_X_y(x, y, accept_sparse=True)\n",
    "        self._r = sparse.csr_matrix(np.log(pr(x,1,y) / pr(x,0,y)))\n",
    "        x_nb = x.multiply(self._r)\n",
    "        self._clf = LogisticRegression(C=self.C, dual=self.dual, n_jobs=self.n_jobs).fit(x_nb, y)\n",
    "        return self"
   ]
  },
  {
   "cell_type": "code",
   "execution_count": 31,
   "metadata": {},
   "outputs": [],
   "source": [
    "preds = np.zeros((len(test_df), len(label_cols)))\n",
    "tfidf_vectorizer = TfidfVectorizer(ngram_range=(1,2), min_df=3, max_df=0.9, strip_accents='unicode', use_idf=1, smooth_idf=1, sublinear_tf=1 )\n",
    "train_tfidf = tfidf_vectorizer.fit_transform(train_df['comment_text'])\n",
    "test_tfidf = tfidf_vectorizer.transform(test_df['comment_text'])\n",
    "\n",
    "for i, label in enumerate(label_cols):\n",
    "    model = NbSvmClassifier(C=4, dual=False, n_jobs=-1).fit(train_tfidf, train_df[label])\n",
    "    preds[:,i] = model.predict(test_tfidf)\n"
   ]
  },
  {
   "cell_type": "markdown",
   "metadata": {},
   "source": [
    "#### Deep Learning Models"
   ]
  },
  {
   "cell_type": "markdown",
   "metadata": {},
   "source": [
    "### Submission"
   ]
  },
  {
   "cell_type": "code",
   "execution_count": 42,
   "metadata": {},
   "outputs": [],
   "source": [
    "#NB-COUNT public: 0.7336\n",
    "sample_sub = pd.read_csv('sample_submission.csv')\n",
    "submid = pd.DataFrame({'id': sample_sub[\"id\"]})\n",
    "submission = pd.concat([submid, pd.DataFrame(nb_count_prediction, columns = label_cols)], axis=1)\n",
    "submission.to_csv('submission.csv', index=False)"
   ]
  },
  {
   "cell_type": "code",
   "execution_count": 33,
   "metadata": {},
   "outputs": [],
   "source": [
    "#NB-LR public: 0.745\n",
    "sample_sub = pd.read_csv('sample_submission.csv')\n",
    "submid = pd.DataFrame({'id': sample_sub[\"id\"]})\n",
    "submission = pd.concat([submid, pd.DataFrame(preds, columns = label_cols)], axis=1)\n",
    "submission.to_csv('submission.csv', index=False)"
   ]
  },
  {
   "cell_type": "code",
   "execution_count": null,
   "metadata": {},
   "outputs": [],
   "source": [
    "#NB-TFIDF public: 0.81\n",
    "sample_sub = pd.read_csv('sample_submission.csv')\n",
    "submid = pd.DataFrame({'id': sample_sub[\"id\"]})\n",
    "submission = pd.concat([submid, pd.DataFrame(nb_tfidf_prediction, columns = label_cols)], axis=1)\n",
    "submission.to_csv('submission.csv', index=False)"
   ]
  },
  {
   "cell_type": "code",
   "execution_count": 17,
   "metadata": {},
   "outputs": [],
   "source": [
    "#LR-TFIDF public: 0.86\n",
    "sample_sub = pd.read_csv('sample_submission.csv')\n",
    "submid = pd.DataFrame({'id': sample_sub[\"id\"]})\n",
    "submission = pd.concat([submid, pd.DataFrame(lr_tfidf_prediction, columns = label_cols)], axis=1)\n",
    "submission.to_csv('submission.csv', index=False)"
   ]
  }
 ],
 "metadata": {
  "kernelspec": {
   "display_name": "Python 3",
   "language": "python",
   "name": "python3"
  },
  "language_info": {
   "codemirror_mode": {
    "name": "ipython",
    "version": 3
   },
   "file_extension": ".py",
   "mimetype": "text/x-python",
   "name": "python",
   "nbconvert_exporter": "python",
   "pygments_lexer": "ipython3",
   "version": "3.8.5"
  }
 },
 "nbformat": 4,
 "nbformat_minor": 4
}
