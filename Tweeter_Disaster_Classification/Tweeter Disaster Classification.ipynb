{
 "cells": [
  {
   "cell_type": "code",
   "execution_count": 2,
   "metadata": {},
   "outputs": [
    {
     "name": "stderr",
     "output_type": "stream",
     "text": [
      "/Users/jixidai/opt/anaconda3/lib/python3.8/site-packages/gensim/similarities/__init__.py:15: UserWarning: The gensim.similarities.levenshtein submodule is disabled, because the optional Levenshtein package <https://pypi.org/project/python-Levenshtein/> is unavailable. Install Levenhstein (e.g. `pip install python-Levenshtein`) to suppress this warning.\n",
      "  warnings.warn(msg)\n"
     ]
    }
   ],
   "source": [
    "import pandas as pd\n",
    "import matplotlib.pyplot as plt\n",
    "import seaborn as sns\n",
    "import numpy as np\n",
    "from nltk.corpus import stopwords\n",
    "from nltk.util import ngrams\n",
    "from collections import defaultdict\n",
    "from collections import  Counter\n",
    "plt.style.use('ggplot')\n",
    "stop=set(stopwords.words('english'))\n",
    "import re\n",
    "from nltk.tokenize import word_tokenize\n",
    "import gensim\n",
    "import string\n",
    "from spellchecker import SpellChecker\n",
    "import textblob\n",
    "import os\n",
    "import tensorflow as tf"
   ]
  },
  {
   "cell_type": "code",
   "execution_count": 3,
   "metadata": {},
   "outputs": [],
   "source": [
    "import string\n",
    "\n",
    "from nltk.corpus import stopwords as sw\n",
    "from nltk.corpus import wordnet as wn\n",
    "from nltk import wordpunct_tokenize\n",
    "from nltk import WordNetLemmatizer\n",
    "from nltk import sent_tokenize\n",
    "from nltk import pos_tag\n",
    "\n",
    "from sklearn.base import BaseEstimator, TransformerMixin\n",
    "from sklearn.feature_extraction.text import CountVectorizer, TfidfVectorizer"
   ]
  },
  {
   "cell_type": "code",
   "execution_count": 4,
   "metadata": {},
   "outputs": [],
   "source": [
    "from sklearn.naive_bayes import MultinomialNB, GaussianNB\n",
    "from sklearn.metrics import accuracy_score, recall_score, precision_score\n",
    "from sklearn.model_selection import train_test_split\n",
    "from sklearn.linear_model import LogisticRegression\n",
    "from sklearn.svm import SVC\n",
    "from sklearn.pipeline import Pipeline"
   ]
  },
  {
   "cell_type": "markdown",
   "metadata": {},
   "source": [
    "### EDA"
   ]
  },
  {
   "cell_type": "code",
   "execution_count": 5,
   "metadata": {},
   "outputs": [
    {
     "data": {
      "text/html": [
       "<div>\n",
       "<style scoped>\n",
       "    .dataframe tbody tr th:only-of-type {\n",
       "        vertical-align: middle;\n",
       "    }\n",
       "\n",
       "    .dataframe tbody tr th {\n",
       "        vertical-align: top;\n",
       "    }\n",
       "\n",
       "    .dataframe thead th {\n",
       "        text-align: right;\n",
       "    }\n",
       "</style>\n",
       "<table border=\"1\" class=\"dataframe\">\n",
       "  <thead>\n",
       "    <tr style=\"text-align: right;\">\n",
       "      <th></th>\n",
       "      <th>id</th>\n",
       "      <th>keyword</th>\n",
       "      <th>location</th>\n",
       "      <th>text</th>\n",
       "      <th>target</th>\n",
       "    </tr>\n",
       "  </thead>\n",
       "  <tbody>\n",
       "    <tr>\n",
       "      <th>0</th>\n",
       "      <td>1</td>\n",
       "      <td>NaN</td>\n",
       "      <td>NaN</td>\n",
       "      <td>Our Deeds are the Reason of this #earthquake M...</td>\n",
       "      <td>1</td>\n",
       "    </tr>\n",
       "    <tr>\n",
       "      <th>1</th>\n",
       "      <td>4</td>\n",
       "      <td>NaN</td>\n",
       "      <td>NaN</td>\n",
       "      <td>Forest fire near La Ronge Sask. Canada</td>\n",
       "      <td>1</td>\n",
       "    </tr>\n",
       "    <tr>\n",
       "      <th>2</th>\n",
       "      <td>5</td>\n",
       "      <td>NaN</td>\n",
       "      <td>NaN</td>\n",
       "      <td>All residents asked to 'shelter in place' are ...</td>\n",
       "      <td>1</td>\n",
       "    </tr>\n",
       "    <tr>\n",
       "      <th>3</th>\n",
       "      <td>6</td>\n",
       "      <td>NaN</td>\n",
       "      <td>NaN</td>\n",
       "      <td>13,000 people receive #wildfires evacuation or...</td>\n",
       "      <td>1</td>\n",
       "    </tr>\n",
       "    <tr>\n",
       "      <th>4</th>\n",
       "      <td>7</td>\n",
       "      <td>NaN</td>\n",
       "      <td>NaN</td>\n",
       "      <td>Just got sent this photo from Ruby #Alaska as ...</td>\n",
       "      <td>1</td>\n",
       "    </tr>\n",
       "  </tbody>\n",
       "</table>\n",
       "</div>"
      ],
      "text/plain": [
       "   id keyword location                                               text  \\\n",
       "0   1     NaN      NaN  Our Deeds are the Reason of this #earthquake M...   \n",
       "1   4     NaN      NaN             Forest fire near La Ronge Sask. Canada   \n",
       "2   5     NaN      NaN  All residents asked to 'shelter in place' are ...   \n",
       "3   6     NaN      NaN  13,000 people receive #wildfires evacuation or...   \n",
       "4   7     NaN      NaN  Just got sent this photo from Ruby #Alaska as ...   \n",
       "\n",
       "   target  \n",
       "0       1  \n",
       "1       1  \n",
       "2       1  \n",
       "3       1  \n",
       "4       1  "
      ]
     },
     "execution_count": 5,
     "metadata": {},
     "output_type": "execute_result"
    }
   ],
   "source": [
    "train_df = pd.read_csv('train.csv')\n",
    "train_df.head()"
   ]
  },
  {
   "cell_type": "code",
   "execution_count": 6,
   "metadata": {},
   "outputs": [
    {
     "data": {
      "text/html": [
       "<div>\n",
       "<style scoped>\n",
       "    .dataframe tbody tr th:only-of-type {\n",
       "        vertical-align: middle;\n",
       "    }\n",
       "\n",
       "    .dataframe tbody tr th {\n",
       "        vertical-align: top;\n",
       "    }\n",
       "\n",
       "    .dataframe thead th {\n",
       "        text-align: right;\n",
       "    }\n",
       "</style>\n",
       "<table border=\"1\" class=\"dataframe\">\n",
       "  <thead>\n",
       "    <tr style=\"text-align: right;\">\n",
       "      <th></th>\n",
       "      <th>id</th>\n",
       "      <th>keyword</th>\n",
       "      <th>location</th>\n",
       "      <th>text</th>\n",
       "    </tr>\n",
       "  </thead>\n",
       "  <tbody>\n",
       "    <tr>\n",
       "      <th>0</th>\n",
       "      <td>0</td>\n",
       "      <td>NaN</td>\n",
       "      <td>NaN</td>\n",
       "      <td>Just happened a terrible car crash</td>\n",
       "    </tr>\n",
       "    <tr>\n",
       "      <th>1</th>\n",
       "      <td>2</td>\n",
       "      <td>NaN</td>\n",
       "      <td>NaN</td>\n",
       "      <td>Heard about #earthquake is different cities, s...</td>\n",
       "    </tr>\n",
       "    <tr>\n",
       "      <th>2</th>\n",
       "      <td>3</td>\n",
       "      <td>NaN</td>\n",
       "      <td>NaN</td>\n",
       "      <td>there is a forest fire at spot pond, geese are...</td>\n",
       "    </tr>\n",
       "    <tr>\n",
       "      <th>3</th>\n",
       "      <td>9</td>\n",
       "      <td>NaN</td>\n",
       "      <td>NaN</td>\n",
       "      <td>Apocalypse lighting. #Spokane #wildfires</td>\n",
       "    </tr>\n",
       "    <tr>\n",
       "      <th>4</th>\n",
       "      <td>11</td>\n",
       "      <td>NaN</td>\n",
       "      <td>NaN</td>\n",
       "      <td>Typhoon Soudelor kills 28 in China and Taiwan</td>\n",
       "    </tr>\n",
       "  </tbody>\n",
       "</table>\n",
       "</div>"
      ],
      "text/plain": [
       "   id keyword location                                               text\n",
       "0   0     NaN      NaN                 Just happened a terrible car crash\n",
       "1   2     NaN      NaN  Heard about #earthquake is different cities, s...\n",
       "2   3     NaN      NaN  there is a forest fire at spot pond, geese are...\n",
       "3   9     NaN      NaN           Apocalypse lighting. #Spokane #wildfires\n",
       "4  11     NaN      NaN      Typhoon Soudelor kills 28 in China and Taiwan"
      ]
     },
     "execution_count": 6,
     "metadata": {},
     "output_type": "execute_result"
    }
   ],
   "source": [
    "test_df = pd.read_csv('test.csv')\n",
    "test_df.head()"
   ]
  },
  {
   "cell_type": "code",
   "execution_count": 7,
   "metadata": {},
   "outputs": [
    {
     "name": "stdout",
     "output_type": "stream",
     "text": [
      "There are 7613 rows and 5 columns in train\n",
      "There are 3263 rows and 4 columns in train\n"
     ]
    }
   ],
   "source": [
    "print('There are {} rows and {} columns in train'.format(train_df.shape[0],train_df.shape[1]))\n",
    "print('There are {} rows and {} columns in train'.format(test_df.shape[0],test_df.shape[1]))"
   ]
  },
  {
   "cell_type": "code",
   "execution_count": 8,
   "metadata": {},
   "outputs": [
    {
     "name": "stderr",
     "output_type": "stream",
     "text": [
      "/Users/jixidai/opt/anaconda3/lib/python3.8/site-packages/seaborn/_decorators.py:36: FutureWarning: Pass the following variables as keyword args: x, y. From version 0.12, the only valid positional argument will be `data`, and passing other arguments without an explicit keyword will result in an error or misinterpretation.\n",
      "  warnings.warn(\n"
     ]
    },
    {
     "data": {
      "text/plain": [
       "Text(0, 0.5, 'samples')"
      ]
     },
     "execution_count": 8,
     "metadata": {},
     "output_type": "execute_result"
    },
    {
     "data": {
      "image/png": "[encoded data removed]",
      "text/plain": [
       "<Figure size 432x288 with 1 Axes>"
      ]
     },
     "metadata": {},
     "output_type": "display_data"
    }
   ],
   "source": [
    "x = train_df.target.value_counts()\n",
    "sns.barplot(x.index,x)\n",
    "plt.gca().set_ylabel('samples')"
   ]
  },
  {
   "cell_type": "code",
   "execution_count": 9,
   "metadata": {},
   "outputs": [],
   "source": [
    "def get_top_tweet_bigrams(corpus, n=None):\n",
    "    vec = CountVectorizer(ngram_range=(2, 2)).fit(corpus)\n",
    "    bag_of_words = vec.transform(corpus)\n",
    "    sum_words = bag_of_words.sum(axis=0) \n",
    "    words_freq = [(word, sum_words[0, idx]) for word, idx in vec.vocabulary_.items()]\n",
    "    words_freq =sorted(words_freq, key = lambda x: x[1], reverse=True)\n",
    "    return words_freq[:n]"
   ]
  },
  {
   "cell_type": "code",
   "execution_count": 10,
   "metadata": {},
   "outputs": [
    {
     "data": {
      "text/plain": [
       "<AxesSubplot:>"
      ]
     },
     "execution_count": 10,
     "metadata": {},
     "output_type": "execute_result"
    },
    {
     "data": {
      "image/png": "[encoded data removed]",
      "text/plain": [
       "<Figure size 720x360 with 1 Axes>"
      ]
     },
     "metadata": {},
     "output_type": "display_data"
    }
   ],
   "source": [
    "plt.figure(figsize=(10,5))\n",
    "top_tweet_bigrams=get_top_tweet_bigrams(train_df['text'])[:10]\n",
    "x,y=map(list,zip(*top_tweet_bigrams))\n",
    "sns.barplot(x=y,y=x)\n"
   ]
  },
  {
   "cell_type": "code",
   "execution_count": 11,
   "metadata": {},
   "outputs": [
    {
     "data": {
      "text/plain": [
       "(10876, 5)"
      ]
     },
     "execution_count": 11,
     "metadata": {},
     "output_type": "execute_result"
    }
   ],
   "source": [
    "df=pd.concat([train_df,test_df])\n",
    "df.shape"
   ]
  },
  {
   "cell_type": "markdown",
   "metadata": {},
   "source": [
    "### Data Preprocessing"
   ]
  },
  {
   "cell_type": "code",
   "execution_count": 12,
   "metadata": {},
   "outputs": [],
   "source": [
    "def remove_URL(text):\n",
    "    url = re.compile(r'https?://\\S+|www\\.\\S+')\n",
    "    return url.sub(r'',text)\n",
    "\n",
    "def remove_html(text):\n",
    "    html=re.compile(r'<.*?>')\n",
    "    return html.sub(r'',text)\n",
    "\n",
    "def remove_emoji(text):\n",
    "    emoji_pattern = re.compile(\"[\"\n",
    "                           u\"\\U0001F600-\\U0001F64F\"  # emoticons\n",
    "                           u\"\\U0001F300-\\U0001F5FF\"  # symbols & pictographs\n",
    "                           u\"\\U0001F680-\\U0001F6FF\"  # transport & map symbols\n",
    "                           u\"\\U0001F1E0-\\U0001F1FF\"  # flags (iOS)\n",
    "                           u\"\\U00002702-\\U000027B0\"\n",
    "                           u\"\\U000024C2-\\U0001F251\"\n",
    "                           \"]+\", flags=re.UNICODE)\n",
    "    return emoji_pattern.sub(r'', text)\n",
    "\n",
    "def remove_punct(text):\n",
    "    table=str.maketrans('','',string.punctuation)\n",
    "    return text.translate(table)\n",
    "\n",
    "def correct_spellings(text):\n",
    "    spell = SpellChecker()\n",
    "    corrected_text = []\n",
    "    misspelled_words = spell.unknown(text.split())\n",
    "    for word in text.split():\n",
    "        if word in misspelled_words:\n",
    "            corrected_text.append(spell.correction(word))\n",
    "        else:\n",
    "            corrected_text.append(word)\n",
    "    return \" \".join(corrected_text)\n",
    "\n",
    "def check_pos_tag(x, flag):\n",
    "    pos_family = {\n",
    "    'noun' : ['NN','NNS','NNP','NNPS'],\n",
    "    'pron' : ['PRP','PRP$','WP','WP$'],\n",
    "    'verb' : ['VB','VBD','VBG','VBN','VBP','VBZ'],\n",
    "    'adj' : ['JJ','JJR','JJS'],\n",
    "    'adv' : ['RB','RBR','RBS','WRB']\n",
    "    }\n",
    "    cnt = 0\n",
    "    wiki = textblob.TextBlob(x)\n",
    "    for tup in wiki.tags:\n",
    "        ppo = list(tup)[1]\n",
    "        if ppo in pos_family[flag]:\n",
    "            cnt += 1\n",
    "    return cnt\n",
    "\n",
    "def preprocess(df):\n",
    "    df['text']=df['text'].apply(lambda x : remove_URL(x))\n",
    "    df['text']=df['text'].apply(lambda x : remove_html(x))\n",
    "    df['text']=df['text'].apply(lambda x: remove_emoji(x))\n",
    "    df['text']=df['text'].apply(lambda x : correct_spellings(x))\n",
    "    df['upper_case_word_count'] = df['text'].apply(lambda x: len([wrd for wrd in x.split() if wrd.isupper()]))\n",
    "    df['word_count'] = df['text'].apply(lambda x: len(x.split()))\n",
    "    df['punctuation_count'] = df['text'].apply(lambda x: len(\"\".join(_ for _ in x if _ in string.punctuation)))\n",
    "    df['text']=df['text'].apply(lambda x : remove_punct(x))\n",
    "    df['noun_count'] = df['text'].apply(lambda x: check_pos_tag(x, 'noun'))\n",
    "    df['verb_count'] = df['text'].apply(lambda x: check_pos_tag(x, 'verb'))\n",
    "    df['adj_count'] = df['text'].apply(lambda x: check_pos_tag(x, 'adj'))\n",
    "    df['adv_count'] = df['text'].apply(lambda x: check_pos_tag(x, 'adv'))\n",
    "    df['pron_count'] = df['text'].apply(lambda x: check_pos_tag(x, 'pron'))\n",
    "    df.to_csv('temp1.csv', index = False)\n",
    "    return df\n",
    "    \n",
    "    "
   ]
  },
  {
   "cell_type": "code",
   "execution_count": 13,
   "metadata": {},
   "outputs": [],
   "source": [
    "data_path = os.path.join(os.getcwd(), 'temp1.csv')\n",
    "if not os.path.exists(data_path):\n",
    "    df = preprocess(df)\n",
    "else:\n",
    "    df = pd.read_csv(data_path, index_col = False)\n",
    "\n",
    "train_df = df[:len(train_df)]\n",
    "test_df = df[len(train_df):]"
   ]
  },
  {
   "cell_type": "markdown",
   "metadata": {},
   "source": [
    "### Vectorization"
   ]
  },
  {
   "cell_type": "code",
   "execution_count": 14,
   "metadata": {},
   "outputs": [],
   "source": [
    "class NLTKPreprocessor(BaseEstimator, TransformerMixin):\n",
    "\n",
    "    def __init__(self, stopwords=None, punct=None,\n",
    "                 lower=True, strip=True):\n",
    "        self.lower      = lower\n",
    "        self.strip      = strip\n",
    "        self.stopwords  = stopwords or set(sw.words('english'))\n",
    "        self.punct      = punct or set(string.punctuation)\n",
    "        self.lemmatizer = WordNetLemmatizer()\n",
    "\n",
    "    def fit(self, X, y=None):\n",
    "        return self\n",
    "\n",
    "    def inverse_transform(self, X):\n",
    "        return [\" \".join(doc) for doc in X]\n",
    "\n",
    "    def transform(self, X):\n",
    "        return [' '.join(self.tokenize(doc)) for doc in X]\n",
    "\n",
    "    def tokenize(self, sentence):\n",
    "        for token, tag in pos_tag(wordpunct_tokenize(sentence)):\n",
    "            # Apply preprocessing to the token\n",
    "            token = token.lower() if self.lower else token\n",
    "            token = token.strip() if self.strip else token\n",
    "            token = token.strip('_') if self.strip else token\n",
    "            token = token.strip('*') if self.strip else token\n",
    "\n",
    "            # If stopword, ignore token and continue\n",
    "            if token in self.stopwords:\n",
    "                continue\n",
    "\n",
    "            # If punctuation, ignore token and continue\n",
    "            if all(char in self.punct for char in token):\n",
    "                continue\n",
    "\n",
    "            # Lemmatize the token and yield\n",
    "            lemma = self.lemmatize(token, tag)\n",
    "            yield lemma\n",
    "\n",
    "    def lemmatize(self, token, tag):\n",
    "        tag = {\n",
    "            'N': wn.NOUN,\n",
    "            'V': wn.VERB,\n",
    "            'R': wn.ADV,\n",
    "            'J': wn.ADJ\n",
    "        }.get(tag[0], wn.NOUN)\n",
    "\n",
    "        return self.lemmatizer.lemmatize(token, tag)"
   ]
  },
  {
   "cell_type": "code",
   "execution_count": 32,
   "metadata": {},
   "outputs": [],
   "source": [
    "class MeanEmbeddingVectorizer(object):\n",
    "    def __init__(self, word2vec):\n",
    "        self.word2vec = word2vec\n",
    "        # if a text is empty we should return a vector of zeros\n",
    "        # with the same dimensionality as all the other vectors\n",
    "        self.dim = self.word2vec.vector_size\n",
    "\n",
    "    def fit(self, X, y = None):\n",
    "        return self\n",
    "\n",
    "    def transform(self, X):\n",
    "        return np.array([\n",
    "            np.mean([self.word2vec[w] for w in words if w in self.word2vec]\n",
    "                    or [np.zeros(self.dim)], axis=0)\n",
    "            for words in X\n",
    "        ])"
   ]
  },
  {
   "cell_type": "code",
   "execution_count": 39,
   "metadata": {},
   "outputs": [],
   "source": [
    "#word2vec using pretrained vec\n",
    "import gensim.downloader\n",
    "glove_vectors = gensim.downloader.load('glove-twitter-200')\n",
    "\n",
    "tweet2vec = MeanEmbeddingVectorizer(glove_vectors)\n",
    "train_word2vec = tweet2vec.transform(train_x.text)\n",
    "valid_word2vec = tweet2vec.transform(valid_x.text)\n"
   ]
  },
  {
   "cell_type": "code",
   "execution_count": 33,
   "metadata": {},
   "outputs": [],
   "source": [
    "#word2vec trained on current dataset\n",
    "from gensim.models import Word2Vec\n",
    "word2vec = Word2Vec(vector_size = 300, min_count=1)\n",
    "train_text = [[word for word in tweet.lower().split()] for tweet in train_df.text]\n",
    "word2vec.build_vocab(train_text)\n",
    "word2vec.train(train_text, total_examples = len(train_df), epochs = word2vec.epochs)\n",
    "\n",
    "tweet2vec = MeanEmbeddingVectorizer(word2vec.wv)\n",
    "train_word2vec = tweet2vec.transform(train_x.text)\n",
    "valid_word2vec = tweet2vec.transform(valid_x.text)"
   ]
  },
  {
   "cell_type": "markdown",
   "metadata": {},
   "source": [
    "### Model"
   ]
  },
  {
   "cell_type": "code",
   "execution_count": 35,
   "metadata": {},
   "outputs": [],
   "source": [
    "def build_and_evaluate(X, y, vectorizer, stop_words = None, \n",
    "                       preprocessor = None, classifier = MultinomialNB()):\n",
    "    \n",
    "    def build_vectorizer(vectorizer, corpus, stop_words = None, preprocessor = None):\n",
    "        if stop_words:    \n",
    "            vectorizer.set_params(stop_words = stop_words)\n",
    "\n",
    "        if preprocessor:\n",
    "            corpus = preprocessor.fit(corpus)\n",
    "            corpus = preprocessor.transform(corpus)\n",
    "            vectorizer.set_params(tokenizer = None, preprocessor=None, lowercase=False)\n",
    "\n",
    "        vectorizer.fit(corpus)\n",
    "    \n",
    "        return vectorizer\n",
    "\n",
    "    def build(X, y, vectorizer, classifier, stop_words = None, preprocessor = None):\n",
    "        \"\"\"\n",
    "        Inner build function that builds a single model.\n",
    "        \"\"\"\n",
    "        if isinstance(classifier, type):\n",
    "            classifier = classifier()\n",
    "        \n",
    "        if not preprocessor:\n",
    "            vectorizer = build_vectorizer(vectorizer, X, stop_words = stop_words)\n",
    "            model = Pipeline([\n",
    "                ('vectorizer', vectorizer),\n",
    "                ('classifier', classifier),\n",
    "            ])\n",
    "        else:\n",
    "            vectorizer = build_vectorizer(vectorizer, X, stop_words = stop_words, preprocessor = preprocessor)\n",
    "            model = Pipeline([\n",
    "                ('preprocessor', preprocessor),\n",
    "                ('vectorizer', vectorizer),\n",
    "                ('classifier', classifier),\n",
    "            ])\n",
    "\n",
    "        model.fit(X, y)\n",
    "        return model\n",
    "    \n",
    "    X_train, X_valid, y_train, y_valid = train_test_split(X, y, test_size=0.2, random_state = 0)\n",
    "    classifier_name = type(classifier).__name__\n",
    "    model = build(X_train, y_train, vectorizer, classifier)\n",
    "\n",
    "    print(\"Classification Report for {} + {}:\\n\".format(classifier_name, type(vectorizer).__name__))\n",
    "\n",
    "    y_pred = model.predict(X_valid)\n",
    "    accuracy = accuracy_score(y_pred, y_valid)\n",
    "    recall = recall_score(y_pred, y_valid)\n",
    "    precision = precision_score(y_pred, y_valid)\n",
    "    print(\"Accuracy is {}\".format(accuracy))\n",
    "    print(\"Recall is {}\".format(recall))\n",
    "    print(\"Precision is {}\".format(precision))\n",
    "    \n",
    "    fitted_model = build(X, y, vectorizer, classifier)\n",
    "    return fitted_model\n",
    "    "
   ]
  },
  {
   "cell_type": "code",
   "execution_count": 36,
   "metadata": {},
   "outputs": [
    {
     "name": "stdout",
     "output_type": "stream",
     "text": [
      "Classification Report for MultinomialNB + CountVectorizer:\n",
      "\n",
      "Accuracy is 0.7951411687458962\n",
      "Recall is 0.8014842300556586\n",
      "Precision is 0.6781789638932496\n"
     ]
    }
   ],
   "source": [
    "#Naive Bayes using count vectors\n",
    "nb_count = build_and_evaluate(train_df.text, train_df.target, CountVectorizer(), stop_words = None, \n",
    "                       preprocessor = None, classifier = MultinomialNB())"
   ]
  },
  {
   "cell_type": "code",
   "execution_count": 37,
   "metadata": {},
   "outputs": [
    {
     "name": "stdout",
     "output_type": "stream",
     "text": [
      "Classification Report for MultinomialNB + TfidfVectorizer:\n",
      "\n",
      "Accuracy is 0.7918581746552856\n",
      "Recall is 0.8418803418803419\n",
      "Precision is 0.6185243328100472\n"
     ]
    }
   ],
   "source": [
    "#Naive Bayes using tfidf vectors\n",
    "nb_tfidf = build_and_evaluate(train_df.text, train_df.target, TfidfVectorizer(), stop_words = None, \n",
    "                       preprocessor = None, classifier = MultinomialNB())"
   ]
  },
  {
   "cell_type": "code",
   "execution_count": 38,
   "metadata": {},
   "outputs": [
    {
     "name": "stdout",
     "output_type": "stream",
     "text": [
      "Classification Report for SVC + MeanEmbeddingVectorizer:\n",
      "\n",
      "Accuracy is 0.5896257386736704\n",
      "Recall is 0.6153846153846154\n",
      "Precision is 0.05023547880690738\n"
     ]
    }
   ],
   "source": [
    "#SVM using trained word2vec vectors\n",
    "svc_trained_word2vec = build_and_evaluate(train_df.text, train_df.target, tweet2vec, stop_words = None, \n",
    "                       preprocessor = None, classifier = SVC(kernel = 'rbf'))"
   ]
  },
  {
   "cell_type": "code",
   "execution_count": 40,
   "metadata": {},
   "outputs": [
    {
     "name": "stdout",
     "output_type": "stream",
     "text": [
      "Classification Report for SVC + MeanEmbeddingVectorizer:\n",
      "\n",
      "Accuracy is 0.6428102429415627\n",
      "Recall is 0.6388059701492538\n",
      "Precision is 0.3359497645211931\n"
     ]
    }
   ],
   "source": [
    "#SVM using pretrained word2vec vectors\n",
    "svc_pretrained_word2vec = build_and_evaluate(train_df.text, train_df.target, tweet2vec, stop_words = None, \n",
    "                       preprocessor = None, classifier = SVC(kernel = 'rbf'))"
   ]
  },
  {
   "cell_type": "code",
   "execution_count": 103,
   "metadata": {},
   "outputs": [
    {
     "name": "stdout",
     "output_type": "stream",
     "text": [
      "LR, Content Features:  0.625\n"
     ]
    }
   ],
   "source": [
    "#Logistic Regression using content features\n",
    "train_content = train_x[['upper_case_word_count', 'word_count', 'noun_count', \n",
    "                          'verb_count', 'adj_count', 'adv_count', 'pron_count']]\n",
    "valid_content = valid_x[['upper_case_word_count', 'word_count', 'noun_count', \n",
    "                          'verb_count', 'adj_count', 'adv_count', 'pron_count']]\n",
    "lr_content = LogisticRegression()\n",
    "lr_content.fit(train_content, train_y)\n",
    "y_valid_pred = lr_content.predict(valid_content)\n",
    "accuracy = accuracy_score(y_valid_pred, valid_y)\n",
    "print (\"LR, Content Features: \", accuracy)"
   ]
  },
  {
   "cell_type": "code",
   "execution_count": 44,
   "metadata": {
    "scrolled": true
   },
   "outputs": [],
   "source": [
    "##NN config\n",
    "def get_corpus_mapping(corpus, preprocessor = None, max_tokens = 20000, max_length = 200):\n",
    "    if preprocessor:\n",
    "        corpus = NLTKPreprocessor().transform(corpus)\n",
    "    vectorizer = tf.keras.layers.TextVectorization(max_tokens = max_tokens, output_sequence_length = max_length)\n",
    "    text_ds = tf.data.Dataset.from_tensor_slices(corpus).batch(128)\n",
    "    vectorizer.adapt(text_ds)\n",
    "    voc = vectorizer.get_vocabulary()\n",
    "    word_index = dict(zip(voc, range(len(voc))))\n",
    "    return voc, word_index, vectorizer\n",
    "\n",
    "def vectorization(vectorizer, data):\n",
    "    return vectorizer(np.array([[s] for s in data])).numpy()\n",
    "    \n",
    "def load_wordvectors(file_name):\n",
    "    path_to_glove_file = os.path.join(\n",
    "        os.getcwd(), file_name\n",
    "    )\n",
    "\n",
    "    embeddings_index = {}\n",
    "    with open(path_to_glove_file) as f:\n",
    "        for line in f:\n",
    "            word, coefs = line.split(maxsplit=1)\n",
    "            coefs = np.fromstring(coefs, \"f\", sep=\" \")\n",
    "            embeddings_index[word] = coefs\n",
    "\n",
    "    print(\"Found %s word vectors.\" % len(embeddings_index))\n",
    "    return embeddings_index\n",
    "\n",
    "def create_embedding_matrix(voc, embeddings_index, word_index):\n",
    "    vocab_size = len(voc)\n",
    "    num_tokens = vocab_size + 2\n",
    "    embedding_dim = len(list(embeddings_index.values())[0])\n",
    "    hits = 0\n",
    "    misses = 0\n",
    "\n",
    "    # Prepare embedding matrix\n",
    "    embedding_matrix = np.zeros((num_tokens, embedding_dim))\n",
    "    for word, i in word_index.items():\n",
    "        embedding_vector = embeddings_index.get(word)\n",
    "        if embedding_vector is not None:\n",
    "            # Words not found in embedding index will be all-zeros.\n",
    "            # This includes the representation for \"padding\" and \"OOV\"\n",
    "            embedding_matrix[i] = embedding_vector\n",
    "            hits += 1\n",
    "        else:\n",
    "            misses += 1\n",
    "    print(\"Converted %d words (%d misses)\" % (hits, misses))\n",
    "    return vocab_size, embedding_dim, embedding_matrix\n",
    "\n",
    "def lr_schedule(epoch):\n",
    "    \"\"\"\n",
    "    Returns a custom learning rate that decreases as epochs progress.\n",
    "    \"\"\"\n",
    "    learning_rate = 0.2\n",
    "    if epoch > 10:\n",
    "        learning_rate = 0.02\n",
    "    if epoch > 20:\n",
    "        learning_rate = 0.01\n",
    "    if epoch > 50:\n",
    "        learning_rate = 0.005\n",
    "\n",
    "    tf.summary.scalar('learning rate', data=learning_rate, step=epoch)\n",
    "    return learning_rate\n",
    "\n",
    "def plot_graphs(history, string):\n",
    "    plt.plot(history.history[string])\n",
    "    plt.plot(history.history['val_'+string])\n",
    "    plt.xlabel(\"Epochs\")\n",
    "    plt.ylabel(string)\n",
    "    plt.legend([string, 'val_'+string])\n",
    "    plt.show()\n",
    "    \n",
    "def build_model(train_x, valid_x, train_y, valid_y, vectorizer, embedding_matrix, \n",
    "       model, loss, optimizer, metric, num_epochs, call_backs):\n",
    "    \n",
    "    x_train = vectorization(vectorizer, train_x)\n",
    "    x_valid = vectorization(vectorizer, valid_x)\n",
    "\n",
    "    model.compile(loss=loss,optimizer=optimizer,metrics=[metric])\n",
    "    history = model.fit(x_train, train_y, epochs = num_epochs, \n",
    "                        validation_data = (x_valid, valid_y), callbacks = call_backs, num_epochs = num_epochs)\n",
    "    plot_graphs(history, \"accuracy\")\n",
    "    plot_graphs(history, \"loss\")\n",
    "    return model, history.history['val_accuracy']\n",
    "\n",
    "def predict(model, test_x, threshold = 0.5):\n",
    "    x_test = vectorizerization(test_x.text)\n",
    "    y_pred = tf.greater(model.predict(x_test), thresold)\n",
    "    return y_pred"
   ]
  },
  {
   "cell_type": "markdown",
   "metadata": {},
   "source": [
    "#### GRU"
   ]
  },
  {
   "cell_type": "code",
   "execution_count": 48,
   "metadata": {},
   "outputs": [
    {
     "name": "stdout",
     "output_type": "stream",
     "text": [
      "Found 400000 word vectors.\n",
      "100\n",
      "Converted 12362 words (5426 misses)\n"
     ]
    }
   ],
   "source": [
    "voc, word_index, vectorizer = get_corpus_mapping(train_df.text, preprocessor = None)\n",
    "embeddings_index = load_wordvectors(\"glove.6B.100d.txt\")\n",
    "vocab_size, embedding_dim, embedding_matrix = create_embedding_matrix(voc, embeddings_index, word_index)\n",
    "num_tokens = vocab_size + 2\n",
    "\n",
    "x_train, x_valid, y_train, y_valid = train_test_split(train_df.text, train_df.target, test_size=0.2, random_state = 0)"
   ]
  },
  {
   "cell_type": "code",
   "execution_count": 49,
   "metadata": {},
   "outputs": [],
   "source": [
    "stop_callback = tf.keras.callbacks.EarlyStopping(monitor='loss', patience=3)\n",
    "lr_callback = tf.keras.callbacks.LearningRateScheduler(lr_schedule)\n",
    "callbacks = [stop_callback]\n",
    "num_epochs = 10\n",
    "loss = 'binary_crossentropy'\n",
    "optimizer = 'adam'\n",
    "metric = 'accuracy'"
   ]
  },
  {
   "cell_type": "code",
   "execution_count": 50,
   "metadata": {},
   "outputs": [
    {
     "name": "stdout",
     "output_type": "stream",
     "text": [
      "Epoch 1/10\n",
      "191/191 [==============================] - 22s 100ms/step - loss: 0.5502 - accuracy: 0.7268 - val_loss: 0.4592 - val_accuracy: 0.7905\n",
      "Epoch 2/10\n",
      "191/191 [==============================] - 18s 93ms/step - loss: 0.4420 - accuracy: 0.8069 - val_loss: 0.4438 - val_accuracy: 0.7958\n",
      "Epoch 3/10\n",
      "191/191 [==============================] - 18s 94ms/step - loss: 0.4215 - accuracy: 0.8171 - val_loss: 0.4380 - val_accuracy: 0.7971\n",
      "Epoch 4/10\n",
      "191/191 [==============================] - 18s 93ms/step - loss: 0.4039 - accuracy: 0.8194 - val_loss: 0.4358 - val_accuracy: 0.7991\n",
      "Epoch 5/10\n",
      "191/191 [==============================] - 17s 91ms/step - loss: 0.3882 - accuracy: 0.8309 - val_loss: 0.4370 - val_accuracy: 0.8004\n",
      "Epoch 6/10\n",
      "191/191 [==============================] - 17s 92ms/step - loss: 0.3791 - accuracy: 0.8381 - val_loss: 0.4462 - val_accuracy: 0.8011\n",
      "Epoch 7/10\n",
      "191/191 [==============================] - 18s 93ms/step - loss: 0.3653 - accuracy: 0.8456 - val_loss: 0.4468 - val_accuracy: 0.7991\n",
      "Epoch 8/10\n",
      "191/191 [==============================] - 17s 91ms/step - loss: 0.3537 - accuracy: 0.8521 - val_loss: 0.4560 - val_accuracy: 0.8004\n",
      "Epoch 9/10\n",
      "191/191 [==============================] - 17s 88ms/step - loss: 0.3384 - accuracy: 0.8568 - val_loss: 0.4479 - val_accuracy: 0.8037\n",
      "Epoch 10/10\n",
      "191/191 [==============================] - 18s 95ms/step - loss: 0.3263 - accuracy: 0.8673 - val_loss: 0.4533 - val_accuracy: 0.8011\n"
     ]
    },
    {
     "data": {
      "image/png": "[encoded data removed]",
      "text/plain": [
       "<Figure size 432x288 with 1 Axes>"
      ]
     },
     "metadata": {},
     "output_type": "display_data"
    },
    {
     "data": {
      "image/png": "[encoded data removed]",
      "text/plain": [
       "<Figure size 432x288 with 1 Axes>"
      ]
     },
     "metadata": {},
     "output_type": "display_data"
    },
    {
     "name": "stdout",
     "output_type": "stream",
     "text": [
      "Validation Accuracy is [0.7905449867248535, 0.7957977652549744, 0.7971109747886658, 0.7990807890892029, 0.8003939390182495, 0.8010505437850952, 0.7990807890892029, 0.8003939390182495, 0.803676962852478, 0.8010505437850952]\n"
     ]
    }
   ],
   "source": [
    "model = tf.keras.Sequential([\n",
    "tf.keras.layers.Embedding(\n",
    "    input_dim = num_tokens,\n",
    "    output_dim=embedding_dim, \n",
    "    embeddings_initializer=tf.keras.initializers.Constant(embedding_matrix),\n",
    "    trainable=False),\n",
    "tf.keras.layers.Bidirectional(tf.keras.layers.GRU(32)),\n",
    "tf.keras.layers.Dense(6, activation='relu'),\n",
    "tf.keras.layers.Dense(1, activation='sigmoid')\n",
    "])\n",
    "\n",
    "model,val_acc = build_model(x_train, x_valid, y_train, y_valid, vectorizer, embedding_matrix, \n",
    "   model, loss, optimizer, metric, num_epochs, callbacks)\n",
    "print(\"Validation Accuracy is {}\".format(val_acc))"
   ]
  },
  {
   "cell_type": "markdown",
   "metadata": {},
   "source": [
    "#### LSTM"
   ]
  },
  {
   "cell_type": "code",
   "execution_count": 20,
   "metadata": {},
   "outputs": [
    {
     "name": "stdout",
     "output_type": "stream",
     "text": [
      "Epoch 1/10\n",
      "191/191 [==============================] - 19s 86ms/step - loss: 0.5012 - accuracy: 0.7647 - val_loss: 0.4537 - val_accuracy: 0.7958\n",
      "Epoch 2/10\n",
      "191/191 [==============================] - 15s 79ms/step - loss: 0.4290 - accuracy: 0.8059 - val_loss: 0.4361 - val_accuracy: 0.8024\n",
      "Epoch 3/10\n",
      "191/191 [==============================] - 15s 79ms/step - loss: 0.4145 - accuracy: 0.8161 - val_loss: 0.4347 - val_accuracy: 0.8011\n",
      "Epoch 4/10\n",
      "191/191 [==============================] - 15s 77ms/step - loss: 0.3993 - accuracy: 0.8253 - val_loss: 0.4373 - val_accuracy: 0.8030\n",
      "Epoch 5/10\n",
      "191/191 [==============================] - 15s 77ms/step - loss: 0.3904 - accuracy: 0.8296 - val_loss: 0.4582 - val_accuracy: 0.8017\n",
      "Epoch 6/10\n",
      "191/191 [==============================] - 15s 77ms/step - loss: 0.3756 - accuracy: 0.8412 - val_loss: 0.4404 - val_accuracy: 0.8056\n",
      "Epoch 7/10\n",
      "191/191 [==============================] - 18s 93ms/step - loss: 0.3625 - accuracy: 0.8447 - val_loss: 0.4494 - val_accuracy: 0.7965\n",
      "Epoch 8/10\n",
      "191/191 [==============================] - 17s 91ms/step - loss: 0.3496 - accuracy: 0.8488 - val_loss: 0.4362 - val_accuracy: 0.8050\n",
      "Epoch 9/10\n",
      "191/191 [==============================] - 16s 84ms/step - loss: 0.3416 - accuracy: 0.8567 - val_loss: 0.4610 - val_accuracy: 0.7919\n",
      "Epoch 10/10\n",
      "191/191 [==============================] - 18s 94ms/step - loss: 0.3258 - accuracy: 0.8637 - val_loss: 0.4607 - val_accuracy: 0.7892\n"
     ]
    },
    {
     "name": "stderr",
     "output_type": "stream",
     "text": [
      "WARNING:absl:Found untraced functions such as lstm_cell_1_layer_call_and_return_conditional_losses, lstm_cell_1_layer_call_fn, lstm_cell_2_layer_call_and_return_conditional_losses, lstm_cell_2_layer_call_fn, lstm_cell_1_layer_call_fn while saving (showing 5 of 10). These functions will not be directly callable after loading.\n"
     ]
    },
    {
     "name": "stdout",
     "output_type": "stream",
     "text": [
      "INFO:tensorflow:Assets written to: LSTM/assets\n"
     ]
    },
    {
     "name": "stderr",
     "output_type": "stream",
     "text": [
      "INFO:tensorflow:Assets written to: LSTM/assets\n"
     ]
    }
   ],
   "source": [
    "model = tf.keras.Sequential([\n",
    "    tf.keras.layers.Embedding(\n",
    "        input_dim = num_tokens,\n",
    "        output_dim=embedding_dim, \n",
    "        embeddings_initializer=tf.keras.initializers.Constant(embedding_matrix),\n",
    "        trainable=False),\n",
    "    tf.keras.layers.Bidirectional(tf.keras.layers.LSTM(32)),\n",
    "    tf.keras.layers.Dense(6, activation='relu'),\n",
    "    tf.keras.layers.Dense(1, activation='sigmoid')\n",
    "])\n",
    "model,val_acc = build_model(x_train, x_valid, y_train, y_valid, vectorizer, embedding_matrix, \n",
    "   model, loss, optimizer, metric, num_epochs, callbacks)\n",
    "print(\"Validation Accuracy is {}\".format(val_acc))"
   ]
  },
  {
   "cell_type": "markdown",
   "metadata": {},
   "source": [
    "#### CNN"
   ]
  },
  {
   "cell_type": "code",
   "execution_count": 51,
   "metadata": {},
   "outputs": [
    {
     "name": "stdout",
     "output_type": "stream",
     "text": [
      "Epoch 1/10\n",
      "191/191 [==============================] - 7s 35ms/step - loss: 0.5124 - accuracy: 0.7473 - val_loss: 0.4643 - val_accuracy: 0.7879\n",
      "Epoch 2/10\n",
      "191/191 [==============================] - 7s 37ms/step - loss: 0.3983 - accuracy: 0.8315 - val_loss: 0.4292 - val_accuracy: 0.8122\n",
      "Epoch 3/10\n",
      "191/191 [==============================] - 7s 37ms/step - loss: 0.3282 - accuracy: 0.8690 - val_loss: 0.4360 - val_accuracy: 0.8109\n",
      "Epoch 4/10\n",
      "191/191 [==============================] - 7s 36ms/step - loss: 0.2683 - accuracy: 0.8977 - val_loss: 0.4799 - val_accuracy: 0.8037\n",
      "Epoch 5/10\n",
      "191/191 [==============================] - 7s 34ms/step - loss: 0.1925 - accuracy: 0.9343 - val_loss: 0.6525 - val_accuracy: 0.7577\n",
      "Epoch 6/10\n",
      "191/191 [==============================] - 6s 34ms/step - loss: 0.1363 - accuracy: 0.9540 - val_loss: 0.6066 - val_accuracy: 0.7912\n",
      "Epoch 7/10\n",
      "191/191 [==============================] - 7s 34ms/step - loss: 0.1155 - accuracy: 0.9581 - val_loss: 0.8181 - val_accuracy: 0.8063\n",
      "Epoch 8/10\n",
      "191/191 [==============================] - 7s 34ms/step - loss: 0.0900 - accuracy: 0.9658 - val_loss: 1.0273 - val_accuracy: 0.7879\n",
      "Epoch 9/10\n",
      "191/191 [==============================] - 7s 35ms/step - loss: 0.0973 - accuracy: 0.9611 - val_loss: 0.7420 - val_accuracy: 0.8063\n",
      "Epoch 10/10\n",
      "191/191 [==============================] - 7s 34ms/step - loss: 0.0765 - accuracy: 0.9695 - val_loss: 1.1385 - val_accuracy: 0.8017\n"
     ]
    },
    {
     "data": {
      "image/png": "[encoded data removed]",
      "text/plain": [
       "<Figure size 432x288 with 1 Axes>"
      ]
     },
     "metadata": {},
     "output_type": "display_data"
    },
    {
     "data": {
      "image/png": "[encoded data removed]",
      "text/plain": [
       "<Figure size 432x288 with 1 Axes>"
      ]
     },
     "metadata": {},
     "output_type": "display_data"
    },
    {
     "name": "stdout",
     "output_type": "stream",
     "text": [
      "Validation Accuracy is [0.7879185676574707, 0.8122127652168274, 0.810899555683136, 0.803676962852478, 0.7577150464057922, 0.7912015914916992, 0.8063033223152161, 0.7879185676574707, 0.8063033223152161, 0.8017071485519409]\n"
     ]
    }
   ],
   "source": [
    "model = tf.keras.Sequential([\n",
    "    tf.keras.layers.Embedding(\n",
    "        input_dim = num_tokens,\n",
    "        output_dim=embedding_dim, \n",
    "        embeddings_initializer=tf.keras.initializers.Constant(embedding_matrix),\n",
    "        trainable=False),\n",
    "    tf.keras.layers.Conv1D(128, 5, activation = 'relu'),\n",
    "    tf.keras.layers.MaxPooling1D(5),\n",
    "    tf.keras.layers.Conv1D(128, 5, activation=\"relu\"),\n",
    "    tf.keras.layers.MaxPooling1D(5),\n",
    "    tf.keras.layers.Conv1D(128, 5, activation=\"relu\"),\n",
    "    tf.keras.layers.GlobalMaxPooling1D(),\n",
    "    tf.keras.layers.Dense(128, activation=\"relu\"),\n",
    "    tf.keras.layers.Dropout(0.5),\n",
    "    tf.keras.layers.Dense(1, activation='sigmoid')\n",
    "])\n",
    "model,val_acc = build_model(x_train, x_valid, y_train, y_valid, vectorizer, embedding_matrix, \n",
    "   model, loss, optimizer, metric, num_epochs, callbacks)\n",
    "print(\"Validation Accuracy is {}\".format(val_acc))"
   ]
  },
  {
   "cell_type": "markdown",
   "metadata": {},
   "source": [
    "### Submission"
   ]
  },
  {
   "cell_type": "code",
   "execution_count": 22,
   "metadata": {},
   "outputs": [],
   "source": [
    "sample_sub=pd.read_csv('sample_submission.csv')"
   ]
  },
  {
   "cell_type": "code",
   "execution_count": 23,
   "metadata": {},
   "outputs": [],
   "source": [
    "#count vectorizer public score: 0.791\n",
    "y_pre = nb_count.predict(test_df.text)\n",
    "y_pre=np.round(y_pre).astype(int).reshape(3263)\n",
    "sub=pd.DataFrame({'id':sample_sub['id'].values.tolist(),'target':y_pre})\n",
    "sub.to_csv('submission.csv',index=False)"
   ]
  },
  {
   "cell_type": "code",
   "execution_count": 38,
   "metadata": {},
   "outputs": [],
   "source": [
    "#GRU with glove vectors public score: 0.810\n",
    "x_test = vectorizer(np.array([[s] for s in test_df.text])).numpy()\n",
    "y_pred = tf.greater(model.predict(x_test), .5)\n",
    "y_pred = np.round(y_pred).astype(int).reshape(3263)\n",
    "sub=pd.DataFrame({'id':sample_sub['id'].values.tolist(),'target':y_pred})\n",
    "sub.to_csv('submission - GRU.csv',index=False)"
   ]
  }
 ],
 "metadata": {
  "kernelspec": {
   "display_name": "Python 3",
   "language": "python",
   "name": "python3"
  },
  "language_info": {
   "codemirror_mode": {
    "name": "ipython",
    "version": 3
   },
   "file_extension": ".py",
   "mimetype": "text/x-python",
   "name": "python",
   "nbconvert_exporter": "python",
   "pygments_lexer": "ipython3",
   "version": "3.8.5"
  }
 },
 "nbformat": 4,
 "nbformat_minor": 4
}
